{
 "cells": [
  {
   "cell_type": "markdown",
   "metadata": {},
   "source": [
    "## Universidad Politécnica Salesiana\n",
    "#### Edith Guaraca C.\n",
    "#### Simulación"
   ]
  },
  {
   "cell_type": "markdown",
   "metadata": {},
   "source": [
    "# Juego de la vida"
   ]
  },
  {
   "cell_type": "markdown",
   "metadata": {},
   "source": [
    "El juego de la vida es un autómata celular diseñado por el matemático británico John Horton Conway en 1970."
   ]
  },
  {
   "cell_type": "markdown",
   "metadata": {},
   "source": [
    "Se trata de un juego de cero jugadores, lo que quiere decir que su evolución está determinada por el estado inicial y no necesita ninguna entrada de datos posterior. El \"tablero de juego\" es una malla plana formada por cuadrados (las \"células\") que se extiende por el infinito en todas las direcciones. Por tanto, cada célula tiene 8 células \"vecinas\", que son las que están próximas a ella, incluidas las diagonales. Las células tienen dos estados: están \"vivas\" o \"muertas\" (o \"encendidas\" y \"apagadas\"). El estado de las células evoluciona a lo largo de unidades de tiempo discretas (se podría decir que por turnos). El estado de todas las células se tiene en cuenta para calcular el estado de las mismas al turno siguiente. Todas las células se actualizan simultáneamente en cada turno, siguiendo estas reglas:\n",
    "\n",
    "* Una célula muerta con exactamente 3 células vecinas vivas \"nace\" (es decir, al turno siguiente estará viva).\n",
    "* Una célula viva con 2 o 3 células vecinas vivas sigue viva, en otro caso muere (por \"soledad\" o \"superpoblación\")."
   ]
  },
  {
   "cell_type": "markdown",
   "metadata": {},
   "source": [
    "## Implementacion"
   ]
  },
  {
   "cell_type": "code",
   "execution_count": 2,
   "metadata": {},
   "outputs": [],
   "source": [
    "import numpy as np \n",
    "import matplotlib.pyplot as plt \n",
    "import matplotlib.patches as patches"
   ]
  },
  {
   "cell_type": "code",
   "execution_count": 3,
   "metadata": {},
   "outputs": [],
   "source": [
    "def vecinos(mat): \n",
    "    n = len(mat) \n",
    "    ex = np.zeros((n+2,n+2)) \n",
    "    ex[1:n+1,1:n+1] = mat \n",
    "    return ex"
   ]
  },
  {
   "cell_type": "code",
   "execution_count": 4,
   "metadata": {},
   "outputs": [],
   "source": [
    "def vecinos1(i,j, ex): \n",
    "    return (ex[i,j-1] + ex[i,j+1] + ex[i-1,j-1] + (ex[i-1,j] + ex[i-1,j+1] + ex[i+1,j-1]) + (ex[i+1,j]+ ex[i+1,j+1]))\n"
   ]
  },
  {
   "cell_type": "code",
   "execution_count": 5,
   "metadata": {},
   "outputs": [],
   "source": [
    "def reglas(mat): \n",
    "    n = len(mat) \n",
    "    ex = vecinos(mat) \n",
    "    nmat = np.zeros((n,n)) \n",
    "    for i in range(1,n+1): \n",
    "        for j in range(1,n+1): \n",
    "            s = vecinos1(i,j,ex) \n",
    "            if s>3 or s <=1: \n",
    "                nmat[i-1,j-1] = 0 \n",
    "            if s == 3 and mat[i-1,j-1]== 0: \n",
    "                nmat[i-1,j-1] = 1 \n",
    "            if (s == 3 or s== 2) and mat[i-1,j-1]== 1: \n",
    "                nmat[i-1,j-1] = 1 \n",
    "    return nmat"
   ]
  },
  {
   "cell_type": "code",
   "execution_count": 6,
   "metadata": {},
   "outputs": [],
   "source": [
    "def cambios(n,ini): \n",
    "    pasos = [] \n",
    "    pasos.append(ini) \n",
    "    g = ini \n",
    "    for i in range(n): \n",
    "        g = reglas(g) \n",
    "        pasos.append(g) \n",
    "    return pasos"
   ]
  },
  {
   "cell_type": "code",
   "execution_count": 7,
   "metadata": {},
   "outputs": [],
   "source": [
    "init = np.zeros((34,34)) \n",
    "init[8,5] = 1 \n",
    "init[8,6] = 1 \n",
    "init[8,7] = 1 \n",
    "init[8,8] = 1 \n",
    "init[8,9] = 1 \n",
    "init[8,11] = 1 \n",
    "init[8,12] = 1 \n",
    "init[8,13] = 1 \n",
    "init[8,14] = 1 \n",
    "init[8,15] = 1\n"
   ]
  },
  {
   "cell_type": "code",
   "execution_count": 8,
   "metadata": {},
   "outputs": [],
   "source": [
    "# declaramos 5 iteraciones\n",
    "\n",
    "res = cambios(5, init)"
   ]
  },
  {
   "cell_type": "code",
   "execution_count": 9,
   "metadata": {},
   "outputs": [
    {
     "name": "stdout",
     "output_type": "stream",
     "text": [
      "[[0. 0. 0. ... 0. 0. 0.]\n",
      " [0. 0. 0. ... 0. 0. 0.]\n",
      " [0. 0. 0. ... 0. 0. 0.]\n",
      " ...\n",
      " [0. 0. 0. ... 0. 0. 0.]\n",
      " [0. 0. 0. ... 0. 0. 0.]\n",
      " [0. 0. 0. ... 0. 0. 0.]]\n",
      "34\n"
     ]
    }
   ],
   "source": [
    "print (res[5]) \n",
    "print (len(res[5]))"
   ]
  },
  {
   "cell_type": "code",
   "execution_count": 10,
   "metadata": {},
   "outputs": [],
   "source": [
    "\n",
    "\n",
    "def grafmat(mt): \n",
    "    n = len(mt) \n",
    "    dx = 1/n \n",
    "    pieces = [] \n",
    "    frame = patches.Rectangle( \n",
    "        (0.0, 0.0),1, 1, fill=False, edgecolor=\"white\",linewidth=2) \n",
    "    pieces.append(frame) \n",
    "    for j in range(n): \n",
    "        for i in range(n): \n",
    "            if mt[i,j]== 1: \n",
    "                p = patches.Rectangle( \n",
    "                    (j/n,(n-1-i)/n), dx,dx, edgecolor=\"Gray\", facecolor=\"black\", fill=True, linewidth=2 )\n",
    "                pieces.append(p) \n",
    "            if mt[i,j]== 0:\n",
    "                p = patches.Rectangle( \n",
    "                    (j/n,(n-1-i)/n), dx,dx, edgecolor=\"Gray\", fill=False,linewidth=2) \n",
    "                pieces.append(p) \n",
    "    return pieces\n"
   ]
  },
  {
   "cell_type": "code",
   "execution_count": 11,
   "metadata": {},
   "outputs": [],
   "source": [
    " def ver(x): \n",
    "        ax1=plt.subplot(111,aspect='equal') \n",
    "        shape = grafmat(x) \n",
    "        for p in shape: ax1.add_patch(p) \n",
    "        plt.axis('off') \n",
    "        plt.show()\n"
   ]
  },
  {
   "cell_type": "code",
   "execution_count": 12,
   "metadata": {},
   "outputs": [
    {
     "data": {
      "image/png": "[encoded data removed]",
      "text/plain": [
       "<Figure size 432x288 with 1 Axes>"
      ]
     },
     "metadata": {
      "needs_background": "light"
     },
     "output_type": "display_data"
    }
   ],
   "source": [
    "ver (res[2])"
   ]
  },
  {
   "cell_type": "code",
   "execution_count": 13,
   "metadata": {},
   "outputs": [],
   "source": [
    "def vista5(v,w,x, y, z): \n",
    "    fg = plt.figure(figsize=(20,4)) \n",
    "    adj = plt.subplots_adjust(hspace=0.4)\n",
    "    \n",
    "    ax0=plt.subplot(151,aspect='equal') \n",
    "    shape = grafmat(v) \n",
    "    for p in shape: ax0.add_patch(p) \n",
    "    plt.axis('off')\n",
    "    \n",
    "    ax1=plt.subplot(152,aspect='equal') \n",
    "    shape = grafmat(w) \n",
    "    for p in shape: ax1.add_patch(p) \n",
    "    plt.axis('off')\n",
    "    \n",
    "    ax2=plt.subplot(153,aspect='equal')  \n",
    "    shape = grafmat(x) \n",
    "    for p in shape: ax2.add_patch(p) \n",
    "    plt.axis('off')\n",
    "    \n",
    "    ax3=plt.subplot(154,aspect='equal') \n",
    "    shape = grafmat(y) \n",
    "    for p in shape: ax3.add_patch(p) \n",
    "    plt.axis('off')\n",
    "    \n",
    "    ax4=plt.subplot(155,aspect='equal') \n",
    "    shape = grafmat(z) \n",
    "    for p in shape: ax4.add_patch(p) \n",
    "    plt.axis('off')\n",
    "    plt.show()\n",
    "\n"
   ]
  },
  {
   "cell_type": "code",
   "execution_count": 14,
   "metadata": {
    "scrolled": true
   },
   "outputs": [
    {
     "data": {
      "image/png": "[encoded data removed]",
      "text/plain": [
       "<Figure size 432x288 with 1 Axes>"
      ]
     },
     "metadata": {
      "needs_background": "light"
     },
     "output_type": "display_data"
    }
   ],
   "source": [
    "cor= cambios(46, init)\n",
    "ver(init)"
   ]
  },
  {
   "cell_type": "code",
   "execution_count": 15,
   "metadata": {},
   "outputs": [],
   "source": [
    " def base(): \n",
    "        Base = np.zeros((34,34)) \n",
    "        Base[11,10] = 1 \n",
    "        Base[11,16] = 1 \n",
    "        Base[11,20] = 1 \n",
    "        Base[13,12] = 1 \n",
    "        Base[16,16] = 1 \n",
    "        Base[16,20] = 1 \n",
    "        Base[20,12] = 1 \n",
    "        Base[20,16] = 1 \n",
    "        Base[20,20] = 1 \n",
    "        return Base\n"
   ]
  },
  {
   "cell_type": "code",
   "execution_count": 16,
   "metadata": {},
   "outputs": [],
   "source": [
    "m10 = base() \n",
    "m10[13,12] = 1 \n",
    "m10[14,12] = 1 \n",
    "m10[15,12] = 1 \n",
    "m10[13,13] = 1 \n",
    "m10[14,14] = 1 \n",
    "m10[15,15] = 1 \n",
    "m10[17,16] = 1 \n",
    "m10[18,16] = 1 \n",
    "m10[19,16] = 1\n",
    "\n",
    "m11 = base() \n",
    "m11[15,13] = 1 \n",
    "m11[14,14] = 1 \n",
    "m11[13,15] = 1 \n",
    "m11[13,17] = 1 \n",
    "m11[14,18] = 1 \n",
    "m11[15,19] = 1 \n",
    "m11[16,17] = 1 \n",
    "m11[16,18] = 1 \n",
    "m11[16,19] = 1\n",
    "\n",
    "m12 = base() \n",
    "m12[13,13] = 1 \n",
    "m12[14,14] = 1 \n",
    "m12[15,15] = 1 \n",
    "m12[17,15] = 1 \n",
    "m12[18,14] = 1 \n",
    "m12[19,13] = 1 \n",
    "m12[17,12] = 1 \n",
    "m12[18,12] = 1 \n",
    "m12[19,12] = 1\n",
    "\n",
    "m13 = base() \n",
    "m13[13,16] = 1 \n",
    "m13[14,16] = 1 \n",
    "m13[15,16] = 1 \n",
    "m13[17,16] = 1 \n",
    "m13[18,16] = 1 \n",
    "m13[19,16] = 1 \n",
    "m13[19,17] = 1 \n",
    "m13[18,18] = 1 \n",
    "m13[17,19] = 1\n",
    "\n",
    "m14 = base() \n",
    "m14[13,13] = 1 \n",
    "m14[14,14] = 1 \n",
    "m14[15,15] = 1 \n",
    "m14[16,13] = 1 \n",
    "m14[16,14] = 1 \n",
    "m14[16,15] = 1 \n",
    "m14[17,12] = 1 \n",
    "m14[18,12] = 1 \n",
    "m14[19,12] = 1\n",
    "\n",
    "m15 = base() \n",
    "m15[16,17] = 1 \n",
    "m15[16,18] = 1\n",
    "m15[16,19] = 1 \n",
    "m15[17,17] = 1 \n",
    "m15[18,18] = 1 \n",
    "m15[19,19] = 1 \n",
    "m15[20,17] = 1 \n",
    "m15[20,18] = 1 \n",
    "m15[20,19] = 1\n"
   ]
  },
  {
   "cell_type": "code",
   "execution_count": 17,
   "metadata": {},
   "outputs": [
    {
     "data": {
      "image/png": "[encoded data removed]",
      "text/plain": [
       "<Figure size 432x288 with 1 Axes>"
      ]
     },
     "metadata": {
      "needs_background": "light"
     },
     "output_type": "display_data"
    }
   ],
   "source": [
    "ver (base())"
   ]
  },
  {
   "cell_type": "code",
   "execution_count": 18,
   "metadata": {},
   "outputs": [
    {
     "data": {
      "image/png": "[encoded data removed]",
      "text/plain": [
       "<Figure size 1440x288 with 5 Axes>"
      ]
     },
     "metadata": {
      "needs_background": "light"
     },
     "output_type": "display_data"
    }
   ],
   "source": [
    "vista5 (m11,m12,m13,m14,m15)"
   ]
  },
  {
   "cell_type": "code",
   "execution_count": 19,
   "metadata": {
    "scrolled": true
   },
   "outputs": [
    {
     "name": "stdout",
     "output_type": "stream",
     "text": [
      "Iteraciones\n"
     ]
    },
    {
     "data": {
      "image/png": "[encoded data removed]",
      "text/plain": [
       "<Figure size 1440x288 with 5 Axes>"
      ]
     },
     "metadata": {
      "needs_background": "light"
     },
     "output_type": "display_data"
    },
    {
     "data": {
      "image/png": "[encoded data removed]",
      "text/plain": [
       "<Figure size 1440x288 with 5 Axes>"
      ]
     },
     "metadata": {
      "needs_background": "light"
     },
     "output_type": "display_data"
    },
    {
     "data": {
      "image/png": "[encoded data removed]",
      "text/plain": [
       "<Figure size 1440x288 with 5 Axes>"
      ]
     },
     "metadata": {
      "needs_background": "light"
     },
     "output_type": "display_data"
    },
    {
     "data": {
      "image/png": "[encoded data removed]",
      "text/plain": [
       "<Figure size 1440x288 with 5 Axes>"
      ]
     },
     "metadata": {
      "needs_background": "light"
     },
     "output_type": "display_data"
    },
    {
     "data": {
      "image/png": "[encoded data removed]",
      "text/plain": [
       "<Figure size 1440x288 with 5 Axes>"
      ]
     },
     "metadata": {
      "needs_background": "light"
     },
     "output_type": "display_data"
    },
    {
     "data": {
      "image/png": "[encoded data removed]",
      "text/plain": [
       "<Figure size 1440x288 with 5 Axes>"
      ]
     },
     "metadata": {
      "needs_background": "light"
     },
     "output_type": "display_data"
    }
   ],
   "source": [
    "muestras = [m10,m11,m12,m13,m14,m15] \n",
    "resultados = []\n",
    "for m in muestras: \n",
    "    r = cambios(300, m) \n",
    "    resultados.append(r)\n",
    "    \n",
    " \n",
    "print(\"Iteraciones\")\n",
    "\n",
    "i = 1 \n",
    "for r in resultados: \n",
    "    vista5 (r[len(r)-5],r[len(r)-4],r[len(r)-3],r[len(r)-2],r[len(r)-1]) \n",
    "                                                                                                                                        \n",
    "    i = i + 1\n",
    "\n"
   ]
  },
  {
   "cell_type": "code",
   "execution_count": 20,
   "metadata": {},
   "outputs": [
    {
     "name": "stdout",
     "output_type": "stream",
     "text": [
      "Muestra  6\n"
     ]
    },
    {
     "data": {
      "image/png": "[encoded data removed]",
      "text/plain": [
       "<Figure size 432x288 with 1 Axes>"
      ]
     },
     "metadata": {
      "needs_background": "light"
     },
     "output_type": "display_data"
    },
    {
     "data": {
      "image/png": "[encoded data removed]",
      "text/plain": [
       "<Figure size 432x288 with 1 Axes>"
      ]
     },
     "metadata": {
      "needs_background": "light"
     },
     "output_type": "display_data"
    }
   ],
   "source": [
    "import simpy \n",
    "import random \n",
    "import matplotlib.pyplot as pp\n",
    "\n",
    "dms={} \n",
    "dm={} \n",
    "j = 0 \n",
    "for r in resultados: \n",
    "    j = j + 1 \n",
    "    i = 0 \n",
    "    for m in r: \n",
    "        i = i + 1 \n",
    "        for fila in range(len(m)): \n",
    "            for columna in range(len(m)): \n",
    "                if m[fila][columna] == 1: \n",
    "                    if i in dm: \n",
    "                        dm[i]=dm[i]+1 \n",
    "                    else: \n",
    "                        dm[i]=1\n",
    "dms[j]=dm \n",
    "dm={}\n",
    "\n",
    "# Generamos la grafica \n",
    "for key, dicm in dms.items(): \n",
    "    print (\"Muestra \", key) \n",
    "    ver (muestras[key-1])  \n",
    "    datos=sorted(dicm.items()) \n",
    "    x, y =zip(*datos) \n",
    "    pp.plot(x,y,linewidth=2,color='red') \n",
    "    pp.scatter(x,y,color='blue') \n",
    "    pp.grid(True) \n",
    "    pp.title(\"Muestra %s\" %(key)) \n",
    "    pp.xlabel('Interacciones') \n",
    "    pp.ylabel('Celulas Vivas')\n",
    "    pp.show()\n",
    "    "
   ]
  },
  {
   "cell_type": "markdown",
   "metadata": {},
   "source": [
    "Las gráficas que se generan son:\n",
    "\n",
    "<img src=\"11.PNG\">\n",
    "\n",
    "<img src=\"111.PNG\">"
   ]
  },
  {
   "cell_type": "markdown",
   "metadata": {},
   "source": [
    "<img src=\"15.PNG\">\n",
    "\n",
    "<img src=\"151.PNG\">"
   ]
  },
  {
   "cell_type": "markdown",
   "metadata": {},
   "source": [
    "Las gráficas corresponde a la primera y última muestra con ello notamos las iteraciones y los grandes cambios que se dan."
   ]
  }
 ],
 "metadata": {
  "kernelspec": {
   "display_name": "Python 3.7 simpy",
   "language": "python",
   "name": "simulacion"
  }
 },
 "nbformat": 4,
 "nbformat_minor": 2
}
